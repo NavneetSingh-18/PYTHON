{
 "cells": [
  {
   "cell_type": "code",
   "execution_count": 5,
   "id": "14a7f9d7-3b0d-4b74-a4b7-30ea6d00af87",
   "metadata": {},
   "outputs": [],
   "source": [
    "import os, shutil"
   ]
  },
  {
   "cell_type": "code",
   "execution_count": 6,
   "id": "23ff19b8-8aa1-4594-b92b-840699435c85",
   "metadata": {},
   "outputs": [],
   "source": [
    "path = r\"C:/Users/hp/Documents/tutorials/\""
   ]
  },
  {
   "cell_type": "code",
   "execution_count": 9,
   "id": "86f92252-0ce6-4bda-a995-79e226ad8632",
   "metadata": {},
   "outputs": [],
   "source": [
    "files_names = os.listdir(path)"
   ]
  },
  {
   "cell_type": "code",
   "execution_count": 17,
   "id": "2f859274-7247-4fd3-a595-fe274c47e37d",
   "metadata": {},
   "outputs": [],
   "source": [
    "\n",
    "# First, create the destination directories if they don't exist\n",
    "if not os.path.exists(path + \"pptx files/\"):\n",
    "    os.makedirs(path + \"pptx files/\")\n",
    "    \n",
    "if not os.path.exists(path + \"pdf files/\"):\n",
    "    os.makedirs(path + \"pdf files/\")\n",
    "    \n",
    "if not os.path.exists(path + \"mp4 files/\"):\n",
    "    os.makedirs(path + \"mp4 files/\")\n",
    "    "
   ]
  },
  {
   "cell_type": "code",
   "execution_count": 18,
   "id": "26b7a130-eb48-465b-b03c-050e850fb757",
   "metadata": {},
   "outputs": [
    {
     "name": "stdout",
     "output_type": "stream",
     "text": [
      "there are in file\n",
      "there are in file\n",
      "there are in file\n",
      "there are in file\n",
      "there are in file\n",
      "there are in file\n"
     ]
    }
   ],
   "source": [
    "for file in files_names:\n",
    "    if \".pptx\" in file and not os.path.exists(path + \"pptx files/\" + file):\n",
    "        shutil.move(path + file,path + \"pptx files/\" + file)\n",
    "    elif \".pdf\" in file and not os.path.exists(path + \"pdf files/\" + file):\n",
    "             shutil.move(path + file,path + \"pdf files/\" + file)\n",
    "    elif \".mp4\" in file and not os.path.exists(path + \"mp4 files/\" + file):\n",
    "             shutil.move(path + file,path + \"mp4 files/\" + file)\n",
    "    else:\n",
    "        print(\"there are in file\")"
   ]
  },
  {
   "cell_type": "code",
   "execution_count": null,
   "id": "68046f26-ae8f-4b19-93e7-f96c81445db2",
   "metadata": {},
   "outputs": [],
   "source": []
  },
  {
   "cell_type": "code",
   "execution_count": null,
   "id": "eeefa3b9-bf65-4bd0-9243-a0b918d13cb1",
   "metadata": {},
   "outputs": [],
   "source": []
  },
  {
   "cell_type": "code",
   "execution_count": null,
   "id": "b05e177b-7e60-45b3-a195-a9e88b7451ef",
   "metadata": {},
   "outputs": [],
   "source": []
  },
  {
   "cell_type": "code",
   "execution_count": null,
   "id": "5318a3f7-cc81-4635-91ad-0e091c6cf953",
   "metadata": {},
   "outputs": [],
   "source": []
  },
  {
   "cell_type": "code",
   "execution_count": null,
   "id": "d1b8c466-5e81-49cd-97e1-6e36989579b8",
   "metadata": {},
   "outputs": [],
   "source": []
  },
  {
   "cell_type": "code",
   "execution_count": null,
   "id": "6ecc5ee4-20cd-49b6-8f37-ced340a74b51",
   "metadata": {},
   "outputs": [],
   "source": []
  },
  {
   "cell_type": "code",
   "execution_count": null,
   "id": "a54bfe23-5279-45ee-bdda-691042b42b0a",
   "metadata": {},
   "outputs": [],
   "source": [
    " "
   ]
  },
  {
   "cell_type": "code",
   "execution_count": null,
   "id": "0dfd3ffc-3a14-42a1-b239-d0c4cac4633b",
   "metadata": {},
   "outputs": [],
   "source": []
  },
  {
   "cell_type": "code",
   "execution_count": null,
   "id": "79b5e5e6-9f54-4142-b6d9-3a4bef242274",
   "metadata": {},
   "outputs": [],
   "source": []
  },
  {
   "cell_type": "code",
   "execution_count": null,
   "id": "729413f6-7776-4046-b625-b8feae6efffa",
   "metadata": {},
   "outputs": [],
   "source": []
  },
  {
   "cell_type": "code",
   "execution_count": null,
   "id": "0bf1d490-9a0a-4ec3-bae7-c9cb838061f8",
   "metadata": {},
   "outputs": [],
   "source": []
  }
 ],
 "metadata": {
  "kernelspec": {
   "display_name": "Python [conda env:base] *",
   "language": "python",
   "name": "conda-base-py"
  },
  "language_info": {
   "codemirror_mode": {
    "name": "ipython",
    "version": 3
   },
   "file_extension": ".py",
   "mimetype": "text/x-python",
   "name": "python",
   "nbconvert_exporter": "python",
   "pygments_lexer": "ipython3",
   "version": "3.13.5"
  }
 },
 "nbformat": 4,
 "nbformat_minor": 5
}
