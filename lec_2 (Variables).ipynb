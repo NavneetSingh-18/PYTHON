{
 "cells": [
  {
   "cell_type": "markdown",
   "id": "32f4195d-ed48-434b-83d6-ae1d2b46eb7e",
   "metadata": {},
   "source": [
    "# Data Types in Python"
   ]
  },
  {
   "cell_type": "code",
   "execution_count": 1,
   "id": "04f5bc9a-7e4e-4913-96a9-a646b54f2700",
   "metadata": {},
   "outputs": [
    {
     "data": {
      "text/plain": [
       "int"
      ]
     },
     "execution_count": 1,
     "metadata": {},
     "output_type": "execute_result"
    }
   ],
   "source": [
    "type(-12+100)"
   ]
  },
  {
   "cell_type": "code",
   "execution_count": 2,
   "id": "3233ca0e-eebe-4f6c-bb2f-45506ee73703",
   "metadata": {},
   "outputs": [
    {
     "data": {
      "text/plain": [
       "float"
      ]
     },
     "execution_count": 2,
     "metadata": {},
     "output_type": "execute_result"
    }
   ],
   "source": [
    "type(-12+100.67)"
   ]
  },
  {
   "cell_type": "code",
   "execution_count": 5,
   "id": "ab7d391e-ae40-4d4b-949c-e38df9a08061",
   "metadata": {},
   "outputs": [
    {
     "data": {
      "text/plain": [
       "complex"
      ]
     },
     "execution_count": 5,
     "metadata": {},
     "output_type": "execute_result"
    }
   ],
   "source": [
    "type(8+4j\n",
    ")"
   ]
  },
  {
   "cell_type": "code",
   "execution_count": 6,
   "id": "12240cc6-29a8-4ccc-9111-1228f77afc33",
   "metadata": {},
   "outputs": [
    {
     "data": {
      "text/plain": [
       "bool"
      ]
     },
     "execution_count": 6,
     "metadata": {},
     "output_type": "execute_result"
    }
   ],
   "source": [
    "#Boolean\n",
    "type(4>5)"
   ]
  },
  {
   "cell_type": "code",
   "execution_count": 7,
   "id": "97a0e0f2-d536-4deb-bce3-f476406b6d2d",
   "metadata": {},
   "outputs": [
    {
     "data": {
      "text/plain": [
       "True"
      ]
     },
     "execution_count": 7,
     "metadata": {},
     "output_type": "execute_result"
    }
   ],
   "source": [
    "1==1"
   ]
  },
  {
   "cell_type": "code",
   "execution_count": 9,
   "id": "d09083fd-8858-4f99-bc5c-38f4cd35b39e",
   "metadata": {},
   "outputs": [
    {
     "name": "stdout",
     "output_type": "stream",
     "text": [
      "done done\n"
     ]
    }
   ],
   "source": [
    "# Strings\n",
    "print('done',\"done\")"
   ]
  },
  {
   "cell_type": "code",
   "execution_count": 11,
   "id": "a4736d3a-8fd8-44b2-83fb-f06c03b594a1",
   "metadata": {},
   "outputs": [
    {
     "data": {
      "text/plain": [
       "'# Strings\\nprint(\\'done\\',\"done\")'"
      ]
     },
     "execution_count": 11,
     "metadata": {},
     "output_type": "execute_result"
    }
   ],
   "source": [
    "\"\"\"# Strings\n",
    "print('done',\"done\")\"\"\""
   ]
  },
  {
   "cell_type": "code",
   "execution_count": 12,
   "id": "412b2e00-07cc-45d0-9761-d8f254f51c51",
   "metadata": {},
   "outputs": [],
   "source": [
    "a = \"Hello World\""
   ]
  },
  {
   "cell_type": "code",
   "execution_count": 18,
   "id": "28866229-e44f-4117-85a4-c05d1ae898d5",
   "metadata": {},
   "outputs": [
    {
     "name": "stdout",
     "output_type": "stream",
     "text": [
      "Hel\n"
     ]
    }
   ],
   "source": [
    "print(a[:3])"
   ]
  },
  {
   "cell_type": "code",
   "execution_count": 19,
   "id": "2f96826a-bc4c-4b94-8e80-40d6c8508b2b",
   "metadata": {},
   "outputs": [
    {
     "data": {
      "text/plain": [
       "[1, 2, 3]"
      ]
     },
     "execution_count": 19,
     "metadata": {},
     "output_type": "execute_result"
    }
   ],
   "source": [
    "# List \n",
    "[1,2,3]"
   ]
  },
  {
   "cell_type": "code",
   "execution_count": 21,
   "id": "14a86956-bada-4d48-8c5a-97c01af99713",
   "metadata": {},
   "outputs": [],
   "source": [
    "# tuple\n",
    "b = (3,4,5,6,7,6,5,7,7)"
   ]
  },
  {
   "cell_type": "code",
   "execution_count": 22,
   "id": "cfc26855-df4e-4707-ae4d-57a48fdc9b03",
   "metadata": {},
   "outputs": [],
   "source": [
    "# sets\n",
    "daily_pints = {1,2,3}"
   ]
  },
  {
   "cell_type": "code",
   "execution_count": 23,
   "id": "cea51a95-07e6-4439-a112-785be9d121e0",
   "metadata": {},
   "outputs": [
    {
     "data": {
      "text/plain": [
       "set"
      ]
     },
     "execution_count": 23,
     "metadata": {},
     "output_type": "execute_result"
    }
   ],
   "source": [
    "type(daily_pints)"
   ]
  },
  {
   "cell_type": "code",
   "execution_count": null,
   "id": "ff9c49d2-bbe4-44b8-b2b1-033bacf24e0d",
   "metadata": {},
   "outputs": [],
   "source": []
  },
  {
   "cell_type": "code",
   "execution_count": null,
   "id": "fe90e4ed-ccdb-48f4-a30e-c828f746f1e8",
   "metadata": {},
   "outputs": [],
   "source": []
  },
  {
   "cell_type": "code",
   "execution_count": null,
   "id": "66a7eeaa-580f-4d0a-861d-becc0340740e",
   "metadata": {},
   "outputs": [],
   "source": []
  },
  {
   "cell_type": "code",
   "execution_count": null,
   "id": "dd13fe75-1ed9-49e6-9776-c4b43094b604",
   "metadata": {},
   "outputs": [],
   "source": []
  },
  {
   "cell_type": "code",
   "execution_count": null,
   "id": "bd0a5a69-a368-4007-971a-7b47ccfad4e7",
   "metadata": {},
   "outputs": [],
   "source": []
  },
  {
   "cell_type": "code",
   "execution_count": null,
   "id": "3fee93c0-031e-4e6f-920d-d7e0c41eca09",
   "metadata": {},
   "outputs": [],
   "source": []
  },
  {
   "cell_type": "code",
   "execution_count": null,
   "id": "358b15eb-3110-4265-9557-f67c3daa6d9f",
   "metadata": {},
   "outputs": [],
   "source": []
  },
  {
   "cell_type": "code",
   "execution_count": null,
   "id": "ae2d97fb-2b27-43f4-8de4-55ea2dab7863",
   "metadata": {},
   "outputs": [],
   "source": []
  },
  {
   "cell_type": "code",
   "execution_count": null,
   "id": "f6750d9e-cf2d-43c1-a42e-f0bb9cdfbed8",
   "metadata": {},
   "outputs": [],
   "source": []
  },
  {
   "cell_type": "code",
   "execution_count": null,
   "id": "83e1c804-7f48-4ff2-85f3-3fca48bf8c9c",
   "metadata": {},
   "outputs": [],
   "source": []
  },
  {
   "cell_type": "code",
   "execution_count": null,
   "id": "c4aefbcd-1610-4b14-9ea2-cabc4b117873",
   "metadata": {},
   "outputs": [],
   "source": []
  },
  {
   "cell_type": "code",
   "execution_count": null,
   "id": "5274542c-6257-4d82-9080-b6e9a1eb7fc0",
   "metadata": {},
   "outputs": [],
   "source": []
  }
 ],
 "metadata": {
  "kernelspec": {
   "display_name": "Python [conda env:base] *",
   "language": "python",
   "name": "conda-base-py"
  },
  "language_info": {
   "codemirror_mode": {
    "name": "ipython",
    "version": 3
   },
   "file_extension": ".py",
   "mimetype": "text/x-python",
   "name": "python",
   "nbconvert_exporter": "python",
   "pygments_lexer": "ipython3",
   "version": "3.13.5"
  }
 },
 "nbformat": 4,
 "nbformat_minor": 5
}
