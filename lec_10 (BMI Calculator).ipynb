{
 "cells": [
  {
   "cell_type": "code",
   "execution_count": 4,
   "id": "e059d6a8-93fe-4826-a081-ef1f0fa106ba",
   "metadata": {},
   "outputs": [
    {
     "name": "stdin",
     "output_type": "stream",
     "text": [
      "Enter your name : NAVNEET SINGH\n",
      "Enter your WEIGHT in Pounds : 150\n",
      "Enter your HEIGHT in inches : 68\n"
     ]
    },
    {
     "name": "stdout",
     "output_type": "stream",
     "text": [
      "22\n",
      "Normal WEight\n"
     ]
    }
   ],
   "source": [
    "name = str(input(\"Enter your name :\"))\n",
    "weight = int(input(\"Enter your WEIGHT in Pounds :\"))\n",
    "height = int(input(\"Enter your HEIGHT in inches :\"))\n",
    "BMI = (weight*703)/(height*height)\n",
    "print(int(BMI))\n",
    "\n",
    "if BMI>0:\n",
    "    if (BMI<18.5):\n",
    "        print(\"UNderweight\")\n",
    "    elif (BMI<25):\n",
    "        print(\"Normal WEight\")\n",
    "    elif (BMI<30):\n",
    "         print(\"Overweight\")\n",
    "    elif (BMI<35):\n",
    "         print(\"Obese\")\n",
    "    elif (BMI<40):\n",
    "         print(\"Severely Obese\")\n",
    "    else :\n",
    "         print(\"Enter Valid Inputs\")"
   ]
  },
  {
   "cell_type": "code",
   "execution_count": null,
   "id": "1720aeb4-ec32-4da1-b801-654fe198505f",
   "metadata": {},
   "outputs": [],
   "source": []
  },
  {
   "cell_type": "code",
   "execution_count": null,
   "id": "d2333d9f-fd42-4bd2-9af9-0bebb6b28fb0",
   "metadata": {},
   "outputs": [],
   "source": []
  }
 ],
 "metadata": {
  "kernelspec": {
   "display_name": "Python [conda env:base] *",
   "language": "python",
   "name": "conda-base-py"
  },
  "language_info": {
   "codemirror_mode": {
    "name": "ipython",
    "version": 3
   },
   "file_extension": ".py",
   "mimetype": "text/x-python",
   "name": "python",
   "nbconvert_exporter": "python",
   "pygments_lexer": "ipython3",
   "version": "3.13.5"
  }
 },
 "nbformat": 4,
 "nbformat_minor": 5
}
